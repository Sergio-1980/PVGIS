{
 "cells": [
  {
   "cell_type": "code",
   "execution_count": 1,
   "id": "278b99a6",
   "metadata": {},
   "outputs": [],
   "source": [
    "from selenium import webdriver\n",
    "from webdriver_manager.chrome import ChromeDriverManager\n",
    "from time import sleep\n",
    "from selenium.webdriver.chrome.options import Options\n",
    "import datetime"
   ]
  },
  {
   "cell_type": "code",
   "execution_count": 2,
   "id": "c4d9d590",
   "metadata": {},
   "outputs": [],
   "source": [
    "opciones=Options()\n",
    "opciones.add_experimental_option('excludeSwitches', ['enable-automation'])\n",
    "opciones.add_experimental_option('useAutomationExtension', False)\n",
    "opciones.headless=False    # si True, no aperece la ventana (headless=no visible)\n",
    "opciones.add_argument('--start-maximized')         # comienza maximizado\n",
    "opciones.add_argument('user-data-dir=selenium')    # mantiene las cookies\n",
    "opciones.add_argument('--incognito') "
   ]
  },
  {
   "cell_type": "code",
   "execution_count": null,
   "id": "a16acc51",
   "metadata": {},
   "outputs": [],
   "source": []
  },
  {
   "cell_type": "code",
   "execution_count": 10,
   "id": "936a22b8",
   "metadata": {},
   "outputs": [
    {
     "name": "stderr",
     "output_type": "stream",
     "text": [
      "\n",
      "\n",
      "====== WebDriver manager ======\n",
      "Current google-chrome version is 94.0.4606\n",
      "Get LATEST driver version for 94.0.4606\n",
      "Driver [/Users/sergio/.wdm/drivers/chromedriver/mac64/94.0.4606.61/chromedriver] found in cache\n",
      "\n",
      "\n",
      "====== WebDriver manager ======\n",
      "Current google-chrome version is 94.0.4606\n",
      "Get LATEST driver version for 94.0.4606\n",
      "Driver [/Users/sergio/.wdm/drivers/chromedriver/mac64/94.0.4606.61/chromedriver] found in cache\n"
     ]
    }
   ],
   "source": [
    "fecha = ['2021-9-30', '2021-9-29']\n",
    "for a in fecha: \n",
    "    driver = webdriver.Chrome(ChromeDriverManager().install(), options = opciones)\n",
    "    driver.get(f\"https://demanda.ree.es/visiona/peninsula/demanda/tablas/{a}/1\")\n",
    "    sleep(5)\n",
    "    driver.find_element_by_css_selector(\"#tabla_evolucion > thead > tr > th > span.export-csv\").click()\n",
    "    sleep(10)\n",
    "    driver.quit()"
   ]
  },
  {
   "cell_type": "code",
   "execution_count": 12,
   "id": "50c0a449",
   "metadata": {},
   "outputs": [],
   "source": []
  },
  {
   "cell_type": "code",
   "execution_count": null,
   "id": "f40f5105",
   "metadata": {},
   "outputs": [
    {
     "name": "stderr",
     "output_type": "stream",
     "text": [
      "\n",
      "\n",
      "====== WebDriver manager ======\n",
      "Current google-chrome version is 94.0.4606\n",
      "Get LATEST driver version for 94.0.4606\n",
      "Driver [/Users/sergio/.wdm/drivers/chromedriver/mac64/94.0.4606.61/chromedriver] found in cache\n",
      "\n",
      "\n",
      "====== WebDriver manager ======\n",
      "Current google-chrome version is 94.0.4606\n",
      "Get LATEST driver version for 94.0.4606\n",
      "Driver [/Users/sergio/.wdm/drivers/chromedriver/mac64/94.0.4606.61/chromedriver] found in cache\n",
      "\n",
      "\n",
      "====== WebDriver manager ======\n",
      "Current google-chrome version is 94.0.4606\n",
      "Get LATEST driver version for 94.0.4606\n",
      "Driver [/Users/sergio/.wdm/drivers/chromedriver/mac64/94.0.4606.61/chromedriver] found in cache\n",
      "\n",
      "\n",
      "====== WebDriver manager ======\n",
      "Current google-chrome version is 94.0.4606\n",
      "Get LATEST driver version for 94.0.4606\n",
      "Driver [/Users/sergio/.wdm/drivers/chromedriver/mac64/94.0.4606.61/chromedriver] found in cache\n"
     ]
    },
    {
     "name": "stdout",
     "output_type": "stream",
     "text": [
      "error in:  2020-10-03\n"
     ]
    },
    {
     "name": "stderr",
     "output_type": "stream",
     "text": [
      "\n",
      "\n",
      "====== WebDriver manager ======\n",
      "Current google-chrome version is 94.0.4606\n",
      "Get LATEST driver version for 94.0.4606\n",
      "Driver [/Users/sergio/.wdm/drivers/chromedriver/mac64/94.0.4606.61/chromedriver] found in cache\n",
      "\n",
      "\n",
      "====== WebDriver manager ======\n",
      "Current google-chrome version is 94.0.4606\n",
      "Get LATEST driver version for 94.0.4606\n",
      "Driver [/Users/sergio/.wdm/drivers/chromedriver/mac64/94.0.4606.61/chromedriver] found in cache\n",
      "\n",
      "\n",
      "====== WebDriver manager ======\n",
      "Current google-chrome version is 94.0.4606\n",
      "Get LATEST driver version for 94.0.4606\n",
      "Driver [/Users/sergio/.wdm/drivers/chromedriver/mac64/94.0.4606.61/chromedriver] found in cache\n",
      "\n",
      "\n",
      "====== WebDriver manager ======\n",
      "Current google-chrome version is 94.0.4606\n",
      "Get LATEST driver version for 94.0.4606\n",
      "Driver [/Users/sergio/.wdm/drivers/chromedriver/mac64/94.0.4606.61/chromedriver] found in cache\n",
      "\n",
      "\n",
      "====== WebDriver manager ======\n",
      "Current google-chrome version is 94.0.4606\n",
      "Get LATEST driver version for 94.0.4606\n",
      "Driver [/Users/sergio/.wdm/drivers/chromedriver/mac64/94.0.4606.61/chromedriver] found in cache\n",
      "\n",
      "\n",
      "====== WebDriver manager ======\n",
      "Current google-chrome version is 94.0.4606\n",
      "Get LATEST driver version for 94.0.4606\n",
      "Driver [/Users/sergio/.wdm/drivers/chromedriver/mac64/94.0.4606.61/chromedriver] found in cache\n",
      "\n",
      "\n",
      "====== WebDriver manager ======\n",
      "Current google-chrome version is 94.0.4606\n",
      "Get LATEST driver version for 94.0.4606\n",
      "Driver [/Users/sergio/.wdm/drivers/chromedriver/mac64/94.0.4606.61/chromedriver] found in cache\n",
      "\n",
      "\n",
      "====== WebDriver manager ======\n",
      "Current google-chrome version is 94.0.4606\n",
      "Get LATEST driver version for 94.0.4606\n",
      "Driver [/Users/sergio/.wdm/drivers/chromedriver/mac64/94.0.4606.61/chromedriver] found in cache\n",
      "\n",
      "\n",
      "====== WebDriver manager ======\n",
      "Current google-chrome version is 94.0.4606\n",
      "Get LATEST driver version for 94.0.4606\n",
      "Driver [/Users/sergio/.wdm/drivers/chromedriver/mac64/94.0.4606.61/chromedriver] found in cache\n",
      "\n",
      "\n",
      "====== WebDriver manager ======\n",
      "Current google-chrome version is 94.0.4606\n",
      "Get LATEST driver version for 94.0.4606\n",
      "Driver [/Users/sergio/.wdm/drivers/chromedriver/mac64/94.0.4606.61/chromedriver] found in cache\n",
      "\n",
      "\n",
      "====== WebDriver manager ======\n",
      "Current google-chrome version is 94.0.4606\n",
      "Get LATEST driver version for 94.0.4606\n"
     ]
    },
    {
     "name": "stdout",
     "output_type": "stream",
     "text": [
      "error in:  2020-10-13\n"
     ]
    },
    {
     "name": "stderr",
     "output_type": "stream",
     "text": [
      "Driver [/Users/sergio/.wdm/drivers/chromedriver/mac64/94.0.4606.61/chromedriver] found in cache\n"
     ]
    },
    {
     "name": "stdout",
     "output_type": "stream",
     "text": [
      "error in:  2020-10-14\n"
     ]
    }
   ],
   "source": [
    "start = datetime.datetime.strptime(\"2011-9-30\", \"%Y-%m-%d\")\n",
    "end = datetime.datetime.strptime(\"2021-9-30\", \"%Y-%m-%d\")\n",
    "date_generated = [start + datetime.timedelta(days=x) for x in range(0, (end-start).days)]\n",
    "\n",
    "for date in date_generated:\n",
    "    try:\n",
    "        driver = webdriver.Chrome(ChromeDriverManager().install(), options = opciones)\n",
    "        driver.get(f\"https://demanda.ree.es/visiona/peninsula/demanda/tablas/{date.strftime('%Y-%m-%d')}/1\")\n",
    "        sleep(3)\n",
    "        driver.find_element_by_css_selector(\"#tabla_evolucion > thead > tr > th > span.export-csv\").click()\n",
    "        sleep(5)\n",
    "        driver.quit()\n",
    "    except:\n",
    "        print(\"error in: \", date.strftime('%Y-%m-%d') )\n",
    "        driver.quit()"
   ]
  },
  {
   "cell_type": "code",
   "execution_count": null,
   "id": "a33cea9b",
   "metadata": {},
   "outputs": [],
   "source": []
  }
 ],
 "metadata": {
  "kernelspec": {
   "display_name": "ironhack",
   "language": "python",
   "name": "ironhack"
  },
  "language_info": {
   "codemirror_mode": {
    "name": "ipython",
    "version": 3
   },
   "file_extension": ".py",
   "mimetype": "text/x-python",
   "name": "python",
   "nbconvert_exporter": "python",
   "pygments_lexer": "ipython3",
   "version": "3.8.11"
  }
 },
 "nbformat": 4,
 "nbformat_minor": 5
}
